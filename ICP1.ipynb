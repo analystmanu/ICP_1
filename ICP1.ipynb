{
  "nbformat": 4,
  "nbformat_minor": 0,
  "metadata": {
    "colab": {
      "provenance": []
    },
    "kernelspec": {
      "name": "python3",
      "display_name": "Python 3"
    },
    "language_info": {
      "name": "python"
    }
  },
  "cells": [
    {
      "cell_type": "markdown",
      "source": [
        "1. Here we are defining a function name \"fullname\" which takes firstname and last name and returns fullname withsingle space in between."
      ],
      "metadata": {
        "id": "qvXOpJRzWpNR"
      }
    },
    {
      "cell_type": "code",
      "source": [
        "def fullname(first_name, last_name):\n",
        "    return first_name + \" \" + last_name"
      ],
      "metadata": {
        "id": "j1_Ccs9JWfkK"
      },
      "execution_count": 9,
      "outputs": []
    },
    {
      "cell_type": "markdown",
      "source": [
        "Defining function named \"string_alternative\" which takes every alternate character from the string. And stores it in an empty string called \"result\". We are using for loop here which starts at index zero and eliminates every 2nd character."
      ],
      "metadata": {
        "id": "QoFHOGexYFlP"
      }
    },
    {
      "cell_type": "code",
      "source": [
        "def string_alternative(full_name):\n",
        "    result = \"\"\n",
        "    for i in range(0, len(full_name), 2):\n",
        "        result += full_name[i]\n",
        "    return result"
      ],
      "metadata": {
        "id": "_MwPxAn1Y8H4"
      },
      "execution_count": 19,
      "outputs": []
    },
    {
      "cell_type": "markdown",
      "source": [
        "Here we are asking user to enter their first and last name using input function and add it to function named full_name. Finally we are calling string alternative function which generates string of every alternative character and stores it in result and print it using print function."
      ],
      "metadata": {
        "id": "t7rxFhbDbQVR"
      }
    },
    {
      "cell_type": "code",
      "source": [
        "def main():\n",
        "    first_name = input(\"Enter your first name: \")\n",
        "    last_name = input(\"Enter your last name: \")\n",
        "\n",
        "    full_name = fullname(first_name, last_name)\n",
        "    result = string_alternative(full_name)\n",
        "\n",
        "    print(f\"The full name with every other character is: {result}\")\n"
      ],
      "metadata": {
        "id": "SzphaUjrbVKp"
      },
      "execution_count": 24,
      "outputs": []
    },
    {
      "cell_type": "markdown",
      "source": [
        "Finally, we call the main function which runs the entire program."
      ],
      "metadata": {
        "id": "_3ssI6aTcw45"
      }
    },
    {
      "cell_type": "code",
      "source": [
        "if __name__ == \"__main__\":\n",
        "    main()"
      ],
      "metadata": {
        "colab": {
          "base_uri": "https://localhost:8080/"
        },
        "id": "wmkvoj4cdPSa",
        "outputId": "f32e5807-e52d-4770-803f-99daf6be9a57"
      },
      "execution_count": 25,
      "outputs": [
        {
          "output_type": "stream",
          "name": "stdout",
          "text": [
            "Enter your first name: Manu\n",
            "Enter your last name: Sharma\n",
            "The full name with every other character is: Mn hra\n"
          ]
        }
      ]
    },
    {
      "cell_type": "markdown",
      "source": [
        "2. Here we are defining function countwords which takes a sentence, split it into words and count the number of times words appear. Then we defining a function file_processing that reads the content of input.txt and combines it into one sentence. And finally we download the input as well as output file using files.download function."
      ],
      "metadata": {
        "id": "K0Yj2P1Yiqyi"
      }
    },
    {
      "cell_type": "code",
      "source": [
        "def countwords(sentence):\n",
        "    wordStore = {}\n",
        "    words = sentence.split()\n",
        "\n",
        "    for i in words:\n",
        "        wordStore[i] = wordStore.get(i, 0) + 1\n",
        "\n",
        "    return wordStore\n",
        "\n",
        "def file_processing(input_file_path, output_file_path):\n",
        "    with open(input_file_path, 'r') as infile, open(output_file_path, 'w') as outfile:\n",
        "\n",
        "        sentences = ' '.join(line.strip() for line in infile)\n",
        "\n",
        "        wordStore = countwords(sentences)\n",
        "\n",
        "        outfile.write( sentences + \"\\n\" + \"\\n\")\n",
        "        outfile.write(\"Word_count:\" + \"\\n\" + \"\\n\")\n",
        "\n",
        "        for word, count in wordStore.items():\n",
        "            outfile.write(f\"{word}: {count}\" + \"\\n\")\n",
        "\n",
        "        outfile.write(\"\\n\")\n",
        "\n",
        "with open('input.txt', 'w') as f:\n",
        "    f.write('Python Course' + \"\\n\" + \"Deep Learning Course\")\n",
        "\n",
        "file_processing('input.txt', 'output.txt')\n",
        "\n",
        "import os\n",
        "\n",
        "with open('output.txt', 'r') as f:\n",
        "    print(f.read())\n",
        "\n",
        "from google.colab import files\n",
        "files.download('input.txt')\n",
        "files.download('output.txt')"
      ],
      "metadata": {
        "colab": {
          "base_uri": "https://localhost:8080/",
          "height": 191
        },
        "id": "-CHgZjFmfGIj",
        "outputId": "f029d399-1b0a-42be-f270-25e3f3c769ed"
      },
      "execution_count": 35,
      "outputs": [
        {
          "output_type": "stream",
          "name": "stdout",
          "text": [
            "Python Course Deep Learning Course\n",
            "\n",
            "Word_count:\n",
            "\n",
            "Python: 1\n",
            "Course: 2\n",
            "Deep: 1\n",
            "Learning: 1\n",
            "\n",
            "\n"
          ]
        },
        {
          "output_type": "display_data",
          "data": {
            "text/plain": [
              "<IPython.core.display.Javascript object>"
            ],
            "application/javascript": [
              "\n",
              "    async function download(id, filename, size) {\n",
              "      if (!google.colab.kernel.accessAllowed) {\n",
              "        return;\n",
              "      }\n",
              "      const div = document.createElement('div');\n",
              "      const label = document.createElement('label');\n",
              "      label.textContent = `Downloading \"${filename}\": `;\n",
              "      div.appendChild(label);\n",
              "      const progress = document.createElement('progress');\n",
              "      progress.max = size;\n",
              "      div.appendChild(progress);\n",
              "      document.body.appendChild(div);\n",
              "\n",
              "      const buffers = [];\n",
              "      let downloaded = 0;\n",
              "\n",
              "      const channel = await google.colab.kernel.comms.open(id);\n",
              "      // Send a message to notify the kernel that we're ready.\n",
              "      channel.send({})\n",
              "\n",
              "      for await (const message of channel.messages) {\n",
              "        // Send a message to notify the kernel that we're ready.\n",
              "        channel.send({})\n",
              "        if (message.buffers) {\n",
              "          for (const buffer of message.buffers) {\n",
              "            buffers.push(buffer);\n",
              "            downloaded += buffer.byteLength;\n",
              "            progress.value = downloaded;\n",
              "          }\n",
              "        }\n",
              "      }\n",
              "      const blob = new Blob(buffers, {type: 'application/binary'});\n",
              "      const a = document.createElement('a');\n",
              "      a.href = window.URL.createObjectURL(blob);\n",
              "      a.download = filename;\n",
              "      div.appendChild(a);\n",
              "      a.click();\n",
              "      div.remove();\n",
              "    }\n",
              "  "
            ]
          },
          "metadata": {}
        },
        {
          "output_type": "display_data",
          "data": {
            "text/plain": [
              "<IPython.core.display.Javascript object>"
            ],
            "application/javascript": [
              "download(\"download_39bdb514-f23d-460d-9f57-de4e3045eaff\", \"input.txt\", 34)"
            ]
          },
          "metadata": {}
        },
        {
          "output_type": "display_data",
          "data": {
            "text/plain": [
              "<IPython.core.display.Javascript object>"
            ],
            "application/javascript": [
              "\n",
              "    async function download(id, filename, size) {\n",
              "      if (!google.colab.kernel.accessAllowed) {\n",
              "        return;\n",
              "      }\n",
              "      const div = document.createElement('div');\n",
              "      const label = document.createElement('label');\n",
              "      label.textContent = `Downloading \"${filename}\": `;\n",
              "      div.appendChild(label);\n",
              "      const progress = document.createElement('progress');\n",
              "      progress.max = size;\n",
              "      div.appendChild(progress);\n",
              "      document.body.appendChild(div);\n",
              "\n",
              "      const buffers = [];\n",
              "      let downloaded = 0;\n",
              "\n",
              "      const channel = await google.colab.kernel.comms.open(id);\n",
              "      // Send a message to notify the kernel that we're ready.\n",
              "      channel.send({})\n",
              "\n",
              "      for await (const message of channel.messages) {\n",
              "        // Send a message to notify the kernel that we're ready.\n",
              "        channel.send({})\n",
              "        if (message.buffers) {\n",
              "          for (const buffer of message.buffers) {\n",
              "            buffers.push(buffer);\n",
              "            downloaded += buffer.byteLength;\n",
              "            progress.value = downloaded;\n",
              "          }\n",
              "        }\n",
              "      }\n",
              "      const blob = new Blob(buffers, {type: 'application/binary'});\n",
              "      const a = document.createElement('a');\n",
              "      a.href = window.URL.createObjectURL(blob);\n",
              "      a.download = filename;\n",
              "      div.appendChild(a);\n",
              "      a.click();\n",
              "      div.remove();\n",
              "    }\n",
              "  "
            ]
          },
          "metadata": {}
        },
        {
          "output_type": "display_data",
          "data": {
            "text/plain": [
              "<IPython.core.display.Javascript object>"
            ],
            "application/javascript": [
              "download(\"download_2c97d1b6-4f34-417c-8d7d-87a94ddeb587\", \"output.txt\", 90)"
            ]
          },
          "metadata": {}
        }
      ]
    },
    {
      "cell_type": "code",
      "source": [
        "3.a Nested interactive loop"
      ],
      "metadata": {
        "id": "iZCBurK4kb41"
      },
      "execution_count": null,
      "outputs": []
    },
    {
      "cell_type": "markdown",
      "source": [],
      "metadata": {
        "id": "uE_8PPWIkcki"
      }
    },
    {
      "cell_type": "code",
      "source": [
        "def convert_heights_nested(heights_inches):\n",
        "    heights_cm = []\n",
        "    for height in heights_inches:\n",
        "        height_cm = height * 2.54\n",
        "        heights_cm.append(round(height_cm, 2))\n",
        "    return heights_cm\n",
        "\n",
        "heights_inches = [150, 155, 145, 148]\n",
        "heights_cm = convert_heights_nested(heights_inches)\n",
        "print(heights_cm)"
      ],
      "metadata": {
        "colab": {
          "base_uri": "https://localhost:8080/"
        },
        "id": "PJBeJtTqkc9M",
        "outputId": "fd9549f0-1e1f-4aba-8587-04c7faee6e76"
      },
      "execution_count": 33,
      "outputs": [
        {
          "output_type": "stream",
          "name": "stdout",
          "text": [
            "[381.0, 393.7, 368.3, 375.92]\n"
          ]
        }
      ]
    },
    {
      "cell_type": "markdown",
      "source": [
        "3.b Using list comprehention"
      ],
      "metadata": {
        "id": "CfXG0K0RkijT"
      }
    },
    {
      "cell_type": "code",
      "source": [
        "def convert_heights_to_cm_list_comp(heights_inches):\n",
        "    return [height * 2.54 for height in heights_inches]\n",
        "\n",
        "L1 = [150, 155, 145, 148]\n",
        "heights_cm_list_comp = convert_heights_to_cm_list_comp(L1)\n",
        "print(heights_cm_list_comp)"
      ],
      "metadata": {
        "colab": {
          "base_uri": "https://localhost:8080/"
        },
        "id": "NHhPVaDpklwS",
        "outputId": "b222d90a-e5fb-43a1-8c48-7ef42d038e79"
      },
      "execution_count": 34,
      "outputs": [
        {
          "output_type": "stream",
          "name": "stdout",
          "text": [
            "[381.0, 393.7, 368.3, 375.92]\n"
          ]
        }
      ]
    }
  ]
}